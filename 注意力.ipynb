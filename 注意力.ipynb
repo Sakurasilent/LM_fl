{
 "cells": [
  {
   "cell_type": "markdown",
   "metadata": {},
   "source": [
    "### 实现多头注意力机制实现\n",
    "$$\n",
    "\\text{Attention}(Q, K, V) = \\text{softmax}\\left(\\frac{QK^T}{\\sqrt{d_k}}\\right)V\n",
    "$$\n",
    "代码实现\n"
   ]
  },
  {
   "cell_type": "code",
   "execution_count": 1,
   "metadata": {},
   "outputs": [],
   "source": [
    "import torch\n",
    "import torch.nn as nn \n",
    "import torch.nn.functional as F"
   ]
  },
  {
   "cell_type": "code",
   "execution_count": 2,
   "metadata": {},
   "outputs": [],
   "source": [
    "class MultiHeadAttention(nn.Module):\n",
    "    def __init__(self, d_model, num_heads, dropout=0.1):\n",
    "        super.__init__()\n",
    "\n",
    "        # 初始化模块属性\n",
    "        self.num_heads = num_heads # 多头注意力头数\n",
    "        self.d_model = d_model # 模型维度\n",
    "        self.depth = d_model // num_heads #每个头的维度\n",
    "\n",
    "        #定义权重矩阵\n",
    "        self.Wq = nn.Linear(d_model, d_model)\n",
    "        self.Wk = nn.Linear(d_model, d_model)\n",
    "        self.Wv = nn.Linear(d_model, d_model)\n",
    "\n",
    "        # 定义最终的线性层\n",
    "        self.fc = nn.Linear(d_model, d_model)\n",
    "\n",
    "        # 定义dropout层\n",
    "        self.dropout= nn .Dropout(p = dropout)\n",
    "        \n",
    "    def scaled_dot_product_attention(self, Q, K, V, mask=None):\n",
    "        scores = torch.matmul(Q, K.transpose(-1, -2))/ torch.sqrt(torch.tensor(self.depth, dtype=torch.float32))\n",
    "\n",
    "        # 如果存在掩码，应用掩码\n",
    "        if mask is not None:\n",
    "            scores += mask * 1e-9\n",
    "        # 计算soft Max\n",
    "        attention = F.softmax(scores, dim=-1)\n",
    "        # 应用dropout\n",
    "        attention = self.dropout(attention)\n",
    "        # 将注意力得分乘以value向量\n",
    "        output = torch.matmul(attention, V)\n",
    "        return output, attention\n",
    "    def forward(self, Q, K, V, mask=None):\n",
    "        batch_size = Q.size(0)\n",
    "\n",
    "        # 线性投影\n",
    "        Q = self.Wq(Q).view(batch_size, -1, self.num_heads, self.depth).transpose(1, 2)\n",
    "        K = self.Wk(K).view(batch_size, -1, self.num_heads, self.depth).transpose(1, 2)\n",
    "        V = self.Wv(V).view(batch_size, -1, self.num_heads, self.depth).transpose(1, 2)\n",
    "\n",
    "        # Scaled Dot-Product Attention\n",
    "        scores, attention = self.scaled_dot_product_attention(Q, K, V, mask=mask)\n",
    "        concat = scores.transpose(1, 2).contiguous().view(batch_size, -1, self.d_model)\n",
    "\n",
    "        # 最总的线形投影\n",
    "        output = self.fc(concat)\n",
    "        return output, attention\n",
    "        pass"
   ]
  }
 ],
 "metadata": {
  "kernelspec": {
   "display_name": "torchv01",
   "language": "python",
   "name": "python3"
  },
  "language_info": {
   "codemirror_mode": {
    "name": "ipython",
    "version": 3
   },
   "file_extension": ".py",
   "mimetype": "text/x-python",
   "name": "python",
   "nbconvert_exporter": "python",
   "pygments_lexer": "ipython3",
   "version": "3.10.13"
  }
 },
 "nbformat": 4,
 "nbformat_minor": 2
}
